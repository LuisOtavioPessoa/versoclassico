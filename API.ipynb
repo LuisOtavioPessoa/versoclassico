{
  "nbformat": 4,
  "nbformat_minor": 0,
  "metadata": {
    "colab": {
      "provenance": [],
      "authorship_tag": "ABX9TyPjshUHCXpg2K+CMqzxxKhO",
      "include_colab_link": true
    },
    "kernelspec": {
      "name": "python3",
      "display_name": "Python 3"
    },
    "language_info": {
      "name": "python"
    }
  },
  "cells": [
    {
      "cell_type": "markdown",
      "metadata": {
        "id": "view-in-github",
        "colab_type": "text"
      },
      "source": [
        "<a href=\"https://colab.research.google.com/github/LuisOtavioPessoa/versoclassico/blob/main/API.ipynb\" target=\"_parent\"><img src=\"https://colab.research.google.com/assets/colab-badge.svg\" alt=\"Open In Colab\"/></a>"
      ]
    },
    {
      "cell_type": "code",
      "execution_count": 2,
      "metadata": {
        "colab": {
          "base_uri": "https://localhost:8080/"
        },
        "id": "xNPL0iooK1Op",
        "outputId": "075b672f-6b26-461b-c95a-f785081e95b6"
      },
      "outputs": [
        {
          "output_type": "stream",
          "name": "stdout",
          "text": [
            "Requirement already satisfied: flask in /usr/local/lib/python3.10/dist-packages (2.2.5)\n",
            "Requirement already satisfied: nltk in /usr/local/lib/python3.10/dist-packages (3.8.1)\n",
            "Requirement already satisfied: Werkzeug>=2.2.2 in /usr/local/lib/python3.10/dist-packages (from flask) (3.0.1)\n",
            "Requirement already satisfied: Jinja2>=3.0 in /usr/local/lib/python3.10/dist-packages (from flask) (3.1.2)\n",
            "Requirement already satisfied: itsdangerous>=2.0 in /usr/local/lib/python3.10/dist-packages (from flask) (2.1.2)\n",
            "Requirement already satisfied: click>=8.0 in /usr/local/lib/python3.10/dist-packages (from flask) (8.1.7)\n",
            "Requirement already satisfied: joblib in /usr/local/lib/python3.10/dist-packages (from nltk) (1.3.2)\n",
            "Requirement already satisfied: regex>=2021.8.3 in /usr/local/lib/python3.10/dist-packages (from nltk) (2023.6.3)\n",
            "Requirement already satisfied: tqdm in /usr/local/lib/python3.10/dist-packages (from nltk) (4.66.1)\n",
            "Requirement already satisfied: MarkupSafe>=2.0 in /usr/local/lib/python3.10/dist-packages (from Jinja2>=3.0->flask) (2.1.3)\n"
          ]
        }
      ],
      "source": [
        "pip install flask nltk"
      ]
    },
    {
      "cell_type": "code",
      "source": [
        "import nltk\n",
        "from nltk.corpus import wordnet\n",
        "from collections import defaultdict\n",
        "\n",
        "nltk.download('wordnet')\n",
        "\n",
        "def obter_rimas(palavra):\n",
        "    rimas = []\n",
        "    for syn in wordnet.synsets(palavra):\n",
        "        for lemma in syn.lemmas():\n",
        "            rima = lemma.name().lower()\n",
        "            if rima != palavra:\n",
        "                rimas.append(rima)\n",
        "    return list(set(rimas))\n",
        "\n",
        "def encontrar_rimas_no_poema(poema):\n",
        "    palavras_poema = poema.split()\n",
        "    sufixos_rimas = defaultdict(list)\n",
        "    for palavra in palavras_poema:\n",
        "        sufixo = palavra[-3:]  # Usando os últimos 3 caracteres como sufixo, pode ajustar conforme necessário\n",
        "        rimas = obter_rimas(palavra)\n",
        "        if rimas:\n",
        "            sufixos_rimas[sufixo].append(palavra)\n",
        "    return dict(sufixos_rimas)\n",
        "\n",
        "# Exemplo de uso\n",
        "poema = \"I still see your shadows in my room Can't take back the love that I gave you It's to the point where I love and I hate you And I cannot change you, so I must replace you (oh) Easier said than done I thought you were the one Listening to my heart instead of my head You found another one, but I am the better one I won't let you forget me I still see your shadows in my room Can't take back the love that I gave you It's to the point where I love and I hate you And I cannot change you so I must replace you (oh) Easier said than done I thought you were the one Listening to my heart instead of my head You found another one, but I am the better one I won't let you forget me\"\n",
        "rimas_poema = encontrar_rimas_no_poema(poema)\n",
        "print(rimas_poema)"
      ],
      "metadata": {
        "colab": {
          "base_uri": "https://localhost:8080/"
        },
        "id": "jGs1VULZTAYX",
        "outputId": "a653fbe8-381e-413e-de1f-19be5c41ab7b"
      },
      "execution_count": 11,
      "outputs": [
        {
          "output_type": "stream",
          "name": "stdout",
          "text": [
            "{'I': ['I', 'I', 'I', 'I', 'I', 'I', 'I', 'I', 'I', 'I', 'I', 'I', 'I', 'I', 'I', 'I', 'I', 'I'], 'ill': ['still', 'still'], 'see': ['see', 'see'], 'ows': ['shadows', 'shadows'], 'in': ['in', 'in'], 'oom': ['room', 'room'], 'ake': ['take', 'take'], 'ack': ['back', 'back'], 'ove': ['love', 'love', 'love', 'love'], 'ave': ['gave', 'gave'], 'int': ['point', 'point'], 'ate': ['hate', 'hate'], 'nge': ['change', 'change'], 'so': ['so', 'so'], 'ust': ['must', 'must'], 'ace': ['replace', 'replace'], 'ier': ['Easier', 'Easier'], 'aid': ['said', 'said'], 'one': ['done', 'one', 'one', 'done', 'one', 'one'], 'ght': ['thought', 'thought'], 'ere': ['were', 'were'], 'ing': ['Listening', 'Listening'], 'art': ['heart', 'heart'], 'ead': ['instead', 'head', 'instead', 'head'], 'und': ['found', 'found'], 'her': ['another', 'another'], 'but': ['but', 'but'], 'am': ['am', 'am'], 'ter': ['better', 'better'], 'let': ['let', 'let'], 'get': ['forget', 'forget'], 'me': ['me', 'me']}\n"
          ]
        },
        {
          "output_type": "stream",
          "name": "stderr",
          "text": [
            "[nltk_data] Downloading package wordnet to /root/nltk_data...\n",
            "[nltk_data]   Package wordnet is already up-to-date!\n"
          ]
        }
      ]
    }
  ]
}